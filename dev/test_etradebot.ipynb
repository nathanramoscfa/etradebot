{
 "cells": [
  {
   "cell_type": "markdown",
   "id": "16a67d93-6557-45c7-83d6-b76cbe44f97c",
   "metadata": {},
   "source": [
    "# Test ETradeBot"
   ]
  },
  {
   "cell_type": "code",
   "execution_count": 1,
   "id": "050d79dc-71f5-4a6c-b529-61aeeccf4826",
   "metadata": {
    "tags": []
   },
   "outputs": [],
   "source": [
    "import ast\n",
    "import sys\n",
    "import keyring"
   ]
  },
  {
   "cell_type": "code",
   "execution_count": 2,
   "id": "736e2cae-f2db-4d37-9404-d74b30de7022",
   "metadata": {},
   "outputs": [],
   "source": [
    "sys.path.insert(0, '../')\n",
    "from strategies.strategy import Strategy\n",
    "from etrade.etrade import ETrade\n",
    "from execute.execute import Execute\n",
    "from bot import Bot"
   ]
  },
  {
   "cell_type": "markdown",
   "id": "0b63f59d-8586-44b5-80b7-7d0a283ad64c",
   "metadata": {},
   "source": [
    "## Initialize"
   ]
  },
  {
   "cell_type": "markdown",
   "id": "b689547c-f2c3-4ad7-86d6-f0d877b115b8",
   "metadata": {},
   "source": [
    "Log in to E-Trade, authenticate account, and initialize API objects."
   ]
  },
  {
   "cell_type": "code",
   "execution_count": 3,
   "id": "02d9a3b2-b35d-4020-b7cc-8c39edbb8eb2",
   "metadata": {
    "tags": []
   },
   "outputs": [],
   "source": [
    "# Retrieve credentials from keyring\n",
    "consumer_key = keyring.get_password(\"etrade\", \"consumer_key\")\n",
    "consumer_secret = keyring.get_password(\"etrade\", \"consumer_secret\")\n",
    "sandbox_key = keyring.get_password(\"etrade\", \"sandbox_key\")\n",
    "sandbox_secret = keyring.get_password(\"etrade\", \"sandbox_secret\")\n",
    "web_username = keyring.get_password(\"etrade\", \"web_username\")\n",
    "web_password = keyring.get_password(\"etrade\", \"web_password\")\n",
    "account_id = keyring.get_password(\"etrade\", \"account_id\")\n",
    "etrade_cookie = ast.literal_eval(keyring.get_password(\"etrade\", \"cookie\"))\n",
    "account_id_key = keyring.get_password(\"etrade\", \"account_id_key\")"
   ]
  },
  {
   "cell_type": "code",
   "execution_count": 4,
   "id": "47100d76-dde5-464b-86b1-450e2c7089b9",
   "metadata": {
    "tags": []
   },
   "outputs": [],
   "source": [
    "# Define the strategy name\n",
    "strategy_name = 'example_strategy'"
   ]
  },
  {
   "cell_type": "code",
   "execution_count": 5,
   "id": "a438135c-b46d-4420-9ab9-f6d14c52e9fc",
   "metadata": {
    "tags": []
   },
   "outputs": [],
   "source": [
    "# Configuration\n",
    "dev=False  # Set to False for production, True for sandbox\n",
    "headless=False  # Set to False to show browser window, True to hide\n",
    "browser='chrome'  # Set to 'chrome' or 'edge'\n",
    "preview=True  # Set to False to execute trades, True to preview\n",
    "prints=True  # Set to True to print information to console"
   ]
  },
  {
   "cell_type": "code",
   "execution_count": 6,
   "id": "42dac1b9-d15b-41bb-b553-61da626f734e",
   "metadata": {
    "tags": []
   },
   "outputs": [
    {
     "name": "stdout",
     "output_type": "stream",
     "text": [
      "Exception details: Message: no such element: Unable to locate element: {\"method\":\"css selector\",\"selector\":\"#sendOTPCodeBtn\"}\n",
      "  (Session info: chrome=121.0.6167.87)\n",
      "Stacktrace:\n",
      "\tGetHandleVerifier [0x00AD1673+52979]\n",
      "\t(No symbol) [0x00A57961]\n",
      "\t(No symbol) [0x0093DD3D]\n",
      "\t(No symbol) [0x00975FBB]\n",
      "\t(No symbol) [0x009760FB]\n",
      "\t(No symbol) [0x009ACF92]\n",
      "\t(No symbol) [0x00994534]\n",
      "\t(No symbol) [0x009AB3FE]\n",
      "\t(No symbol) [0x00994286]\n",
      "\t(No symbol) [0x0096C063]\n",
      "\t(No symbol) [0x0096CECD]\n",
      "\tGetHandleVerifier [0x00DE8D83+3294723]\n",
      "\tGetHandleVerifier [0x00E26CC2+3548482]\n",
      "\tGetHandleVerifier [0x00E21C9C+3527964]\n",
      "\tGetHandleVerifier [0x00B6870E+671630]\n",
      "\t(No symbol) [0x00A61EB4]\n",
      "\t(No symbol) [0x00A5D808]\n",
      "\t(No symbol) [0x00A5D92D]\n",
      "\t(No symbol) [0x00A4F7E0]\n",
      "\tBaseThreadInitThunk [0x75AD7BA9+25]\n",
      "\tRtlInitializeExceptionChain [0x77C9BD2B+107]\n",
      "\tRtlClearBits [0x77C9BCAF+191]\n",
      "\n",
      "ConnectionError: Trying again with chrome.\n",
      "Exception details: Message: no such element: Unable to locate element: {\"method\":\"css selector\",\"selector\":\"#sendOTPCodeBtn\"}\n",
      "  (Session info: chrome=121.0.6167.87)\n",
      "Stacktrace:\n",
      "\tGetHandleVerifier [0x00EC1673+52979]\n",
      "\t(No symbol) [0x00E47961]\n",
      "\t(No symbol) [0x00D2DD3D]\n",
      "\t(No symbol) [0x00D65FBB]\n",
      "\t(No symbol) [0x00D660FB]\n",
      "\t(No symbol) [0x00D9CF92]\n",
      "\t(No symbol) [0x00D84534]\n",
      "\t(No symbol) [0x00D9B3FE]\n",
      "\t(No symbol) [0x00D84286]\n",
      "\t(No symbol) [0x00D5C063]\n",
      "\t(No symbol) [0x00D5CECD]\n",
      "\tGetHandleVerifier [0x011D8D83+3294723]\n",
      "\tGetHandleVerifier [0x01216CC2+3548482]\n",
      "\tGetHandleVerifier [0x01211C9C+3527964]\n",
      "\tGetHandleVerifier [0x00F5870E+671630]\n",
      "\t(No symbol) [0x00E51EB4]\n",
      "\t(No symbol) [0x00E4D808]\n",
      "\t(No symbol) [0x00E4D92D]\n",
      "\t(No symbol) [0x00E3F7E0]\n",
      "\tBaseThreadInitThunk [0x75AD7BA9+25]\n",
      "\tRtlInitializeExceptionChain [0x77C9BD2B+107]\n",
      "\tRtlClearBits [0x77C9BCAF+191]\n",
      "\n",
      "ConnectionError: Trying again with chrome.\n",
      "Exception details: Message: no such element: Unable to locate element: {\"method\":\"css selector\",\"selector\":\"#sendOTPCodeBtn\"}\n",
      "  (Session info: chrome=121.0.6167.87)\n",
      "Stacktrace:\n",
      "\tGetHandleVerifier [0x00891673+52979]\n",
      "\t(No symbol) [0x00817961]\n",
      "\t(No symbol) [0x006FDD3D]\n",
      "\t(No symbol) [0x00735FBB]\n",
      "\t(No symbol) [0x007360FB]\n",
      "\t(No symbol) [0x0076CF92]\n",
      "\t(No symbol) [0x00754534]\n",
      "\t(No symbol) [0x0076B3FE]\n",
      "\t(No symbol) [0x00754286]\n",
      "\t(No symbol) [0x0072C063]\n",
      "\t(No symbol) [0x0072CECD]\n",
      "\tGetHandleVerifier [0x00BA8D83+3294723]\n",
      "\tGetHandleVerifier [0x00BE6CC2+3548482]\n",
      "\tGetHandleVerifier [0x00BE1C9C+3527964]\n",
      "\tGetHandleVerifier [0x0092870E+671630]\n",
      "\t(No symbol) [0x00821EB4]\n",
      "\t(No symbol) [0x0081D808]\n",
      "\t(No symbol) [0x0081D92D]\n",
      "\t(No symbol) [0x0080F7E0]\n",
      "\tBaseThreadInitThunk [0x75AD7BA9+25]\n",
      "\tRtlInitializeExceptionChain [0x77C9BD2B+107]\n",
      "\tRtlClearBits [0x77C9BCAF+191]\n",
      "\n",
      "ConnectionError: Trying again with chrome.\n"
     ]
    },
    {
     "ename": "Exception",
     "evalue": "Failed to connect to Etrade API after multiple retries",
     "output_type": "error",
     "traceback": [
      "\u001b[1;31m---------------------------------------------------------------------------\u001b[0m",
      "\u001b[1;31mException\u001b[0m                                 Traceback (most recent call last)",
      "Cell \u001b[1;32mIn[6], line 2\u001b[0m\n\u001b[0;32m      1\u001b[0m \u001b[38;5;66;03m# Initialize API objects\u001b[39;00m\n\u001b[1;32m----> 2\u001b[0m etrade \u001b[38;5;241m=\u001b[39m \u001b[43mETrade\u001b[49m\u001b[43m(\u001b[49m\n\u001b[0;32m      3\u001b[0m \u001b[43m    \u001b[49m\u001b[43mconsumer_key\u001b[49m\u001b[43m,\u001b[49m\u001b[43m \u001b[49m\u001b[43mconsumer_secret\u001b[49m\u001b[43m,\u001b[49m\u001b[43m \u001b[49m\u001b[43mweb_username\u001b[49m\u001b[43m,\u001b[49m\u001b[43m \u001b[49m\u001b[43mweb_password\u001b[49m\u001b[43m,\u001b[49m\u001b[43m \u001b[49m\u001b[43maccount_id\u001b[49m\u001b[43m,\u001b[49m\u001b[43m \u001b[49m\u001b[43metrade_cookie\u001b[49m\u001b[43m,\u001b[49m\n\u001b[0;32m      4\u001b[0m \u001b[43m    \u001b[49m\u001b[43msandbox_key\u001b[49m\u001b[43m,\u001b[49m\u001b[43m \u001b[49m\u001b[43msandbox_secret\u001b[49m\u001b[43m,\u001b[49m\u001b[43m \u001b[49m\u001b[43mdev\u001b[49m\u001b[43m,\u001b[49m\u001b[43m \u001b[49m\u001b[43mheadless\u001b[49m\u001b[43m,\u001b[49m\u001b[43m \u001b[49m\u001b[43mbrowser\u001b[49m\n\u001b[0;32m      5\u001b[0m \u001b[43m)\u001b[49m\n\u001b[0;32m      6\u001b[0m strategy \u001b[38;5;241m=\u001b[39m Strategy(prints, strategy_name)\n\u001b[0;32m      7\u001b[0m execute \u001b[38;5;241m=\u001b[39m Execute(etrade)\n",
      "File \u001b[1;32mC:\\Code\\Python\\etradebot\\dev\\..\\etrade\\etrade.py:46\u001b[0m, in \u001b[0;36mETrade.__init__\u001b[1;34m(self, consumer_key, consumer_secret, web_username, web_password, account_id, etrade_cookie, sandbox_key, sandbox_secret, dev, headless, browser, retries, sleep)\u001b[0m\n\u001b[0;32m     38\u001b[0m \u001b[38;5;28;01mdef\u001b[39;00m \u001b[38;5;21m__init__\u001b[39m(\n\u001b[0;32m     39\u001b[0m         \u001b[38;5;28mself\u001b[39m, consumer_key, consumer_secret, web_username, web_password, account_id, etrade_cookie,\n\u001b[0;32m     40\u001b[0m         sandbox_key\u001b[38;5;241m=\u001b[39m\u001b[38;5;28;01mNone\u001b[39;00m, sandbox_secret\u001b[38;5;241m=\u001b[39m\u001b[38;5;28;01mNone\u001b[39;00m, dev\u001b[38;5;241m=\u001b[39m\u001b[38;5;28;01mFalse\u001b[39;00m, headless\u001b[38;5;241m=\u001b[39m\u001b[38;5;28;01mTrue\u001b[39;00m, browser\u001b[38;5;241m=\u001b[39m\u001b[38;5;124m'\u001b[39m\u001b[38;5;124mchrome\u001b[39m\u001b[38;5;124m'\u001b[39m, retries\u001b[38;5;241m=\u001b[39m\u001b[38;5;241m3\u001b[39m, sleep\u001b[38;5;241m=\u001b[39m\u001b[38;5;241m30\u001b[39m\n\u001b[0;32m     41\u001b[0m ):\n\u001b[0;32m     42\u001b[0m     \u001b[38;5;28mself\u001b[39m\u001b[38;5;241m.\u001b[39mauth \u001b[38;5;241m=\u001b[39m Authentication(\n\u001b[0;32m     43\u001b[0m         consumer_key, consumer_secret, web_username, web_password, account_id, etrade_cookie,\n\u001b[0;32m     44\u001b[0m         sandbox_key, sandbox_secret, dev, headless, browser, retries, sleep\n\u001b[0;32m     45\u001b[0m     )\n\u001b[1;32m---> 46\u001b[0m     \u001b[38;5;28mself\u001b[39m\u001b[38;5;241m.\u001b[39maccounts, \u001b[38;5;28mself\u001b[39m\u001b[38;5;241m.\u001b[39morders, \u001b[38;5;28mself\u001b[39m\u001b[38;5;241m.\u001b[39mmarket \u001b[38;5;241m=\u001b[39m \u001b[38;5;28;43mself\u001b[39;49m\u001b[38;5;241;43m.\u001b[39;49m\u001b[43mauth\u001b[49m\u001b[38;5;241;43m.\u001b[39;49m\u001b[43metrade_login\u001b[49m\u001b[43m(\u001b[49m\u001b[43m)\u001b[49m\n\u001b[0;32m     47\u001b[0m     \u001b[38;5;28mself\u001b[39m\u001b[38;5;241m.\u001b[39mdev \u001b[38;5;241m=\u001b[39m dev\n",
      "File \u001b[1;32mC:\\Code\\Python\\etradebot\\dev\\..\\authentication\\authentication.py:172\u001b[0m, in \u001b[0;36mAuthentication.etrade_login\u001b[1;34m(self)\u001b[0m\n\u001b[0;32m    168\u001b[0m         \u001b[38;5;28mself\u001b[39m\u001b[38;5;241m.\u001b[39msleep \u001b[38;5;241m*\u001b[39m\u001b[38;5;241m=\u001b[39m \u001b[38;5;241m2\u001b[39m  \u001b[38;5;66;03m# Exponential backoff\u001b[39;00m\n\u001b[0;32m    169\u001b[0m     \u001b[38;5;66;03m# except AttributeError:\u001b[39;00m\n\u001b[0;32m    170\u001b[0m     \u001b[38;5;66;03m#     time.sleep(self.sleep)\u001b[39;00m\n\u001b[0;32m    171\u001b[0m     \u001b[38;5;66;03m#     self.sleep *= 2  # Exponential backoff\u001b[39;00m\n\u001b[1;32m--> 172\u001b[0m \u001b[38;5;28;01mraise\u001b[39;00m \u001b[38;5;167;01mException\u001b[39;00m(\u001b[38;5;124m\"\u001b[39m\u001b[38;5;124mFailed to connect to Etrade API after multiple retries\u001b[39m\u001b[38;5;124m\"\u001b[39m)\n",
      "\u001b[1;31mException\u001b[0m: Failed to connect to Etrade API after multiple retries"
     ]
    }
   ],
   "source": [
    "# Initialize API objects\n",
    "etrade = ETrade(\n",
    "    consumer_key, consumer_secret, web_username, web_password, account_id, etrade_cookie,\n",
    "    sandbox_key, sandbox_secret, dev, headless, browser\n",
    ")\n",
    "strategy = Strategy(prints, strategy_name)\n",
    "execute = Execute(etrade)"
   ]
  },
  {
   "cell_type": "markdown",
   "id": "a14b3080-9fdc-4aab-a4ee-6c27b180c894",
   "metadata": {},
   "source": [
    "## Strategy"
   ]
  },
  {
   "cell_type": "markdown",
   "id": "7cffc6b5-1be4-484a-bcb1-cac33e16c5e9",
   "metadata": {},
   "source": [
    "Run the custom strategy."
   ]
  },
  {
   "cell_type": "code",
   "execution_count": null,
   "id": "b6b3f530-0020-473c-a0b4-1c0a27edff41",
   "metadata": {
    "tags": []
   },
   "outputs": [],
   "source": [
    "new_portfolio = strategy.run_strategy()"
   ]
  },
  {
   "cell_type": "code",
   "execution_count": null,
   "id": "e8a8c002-7c43-423d-8f67-e2269fec9f56",
   "metadata": {
    "tags": []
   },
   "outputs": [],
   "source": [
    "new_portfolio"
   ]
  },
  {
   "cell_type": "markdown",
   "id": "fdfc8a83-30ca-4cf2-8356-806ad303bf76",
   "metadata": {},
   "source": [
    "## Current Portfolio"
   ]
  },
  {
   "cell_type": "markdown",
   "id": "9eed9592-bcf0-4555-b1df-c364920cc776",
   "metadata": {},
   "source": [
    "Get the current portfolio and buying power of the account from E-Tade."
   ]
  },
  {
   "cell_type": "code",
   "execution_count": null,
   "id": "b07d554f-4696-4673-84c0-528c5e111ec2",
   "metadata": {
    "tags": []
   },
   "outputs": [],
   "source": [
    "# Get current portfolio\n",
    "current_portfolio = etrade.get_portfolio_data(account_id_key)[[\n",
    "    'pctOfPortfolio', 'quantity', 'positionType'\n",
    "]]\n",
    "current_portfolio"
   ]
  },
  {
   "cell_type": "code",
   "execution_count": null,
   "id": "de4f804d-8c26-4789-aa98-856b7f150f2c",
   "metadata": {
    "tags": []
   },
   "outputs": [],
   "source": [
    "# Get buying power\n",
    "buying_power = etrade.get_buying_power(account_id_key, prints=prints)"
   ]
  },
  {
   "cell_type": "markdown",
   "id": "a57ce14d-0ab6-4160-b030-fbdd51d6dbe4",
   "metadata": {},
   "source": [
    "## Implement Strategy"
   ]
  },
  {
   "cell_type": "markdown",
   "id": "10529f79-b1f2-4344-b0ba-b781aaf6c9da",
   "metadata": {},
   "source": [
    "Generate trades which will implement the custom strategy given the current portfolio. "
   ]
  },
  {
   "cell_type": "code",
   "execution_count": null,
   "id": "b6911add-3bab-40f0-93d5-9ba689be6256",
   "metadata": {
    "tags": []
   },
   "outputs": [],
   "source": [
    "# Calculate new portfolio shares\n",
    "new_portfolio_shares = execute.calculate_shares(new_portfolio, buying_power, prints=prints)"
   ]
  },
  {
   "cell_type": "code",
   "execution_count": null,
   "id": "aa837896-a0c4-410c-bdb2-dbc751386cef",
   "metadata": {
    "tags": []
   },
   "outputs": [],
   "source": [
    "# Preview or execute trades\n",
    "print('')\n",
    "if preview:\n",
    "    print('Previewing trades...')\n",
    "else:\n",
    "    print('Executing trades...')\n",
    "place_order = execute.execute_trades(\n",
    "    current_portfolio, new_portfolio_shares, account_id_key, preview, prints\n",
    ")"
   ]
  },
  {
   "cell_type": "code",
   "execution_count": null,
   "id": "7ddb0a0b-48e9-4e62-9a43-1e93d0db1bb6",
   "metadata": {
    "tags": []
   },
   "outputs": [],
   "source": [
    "place_order"
   ]
  },
  {
   "cell_type": "code",
   "execution_count": null,
   "id": "1c8bb0c2-0504-47a7-8ac4-0bb7897dd47c",
   "metadata": {},
   "outputs": [],
   "source": []
  }
 ],
 "metadata": {
  "kernelspec": {
   "display_name": "Python 3 (ipykernel)",
   "language": "python",
   "name": "python3"
  },
  "language_info": {
   "codemirror_mode": {
    "name": "ipython",
    "version": 3
   },
   "file_extension": ".py",
   "mimetype": "text/x-python",
   "name": "python",
   "nbconvert_exporter": "python",
   "pygments_lexer": "ipython3",
   "version": "3.11.0"
  }
 },
 "nbformat": 4,
 "nbformat_minor": 5
}
